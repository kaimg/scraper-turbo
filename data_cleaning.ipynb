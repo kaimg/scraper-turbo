{
 "cells": [
  {
   "cell_type": "code",
   "execution_count": 1,
   "metadata": {},
   "outputs": [],
   "source": [
    "import pandas as pd\n",
    "from config import CAR_RESULTS_FILE, CAR_CSV_FILE\n",
    "import seaborn as sns\n",
    "import matplotlib.pyplot as plt"
   ]
  },
  {
   "cell_type": "code",
   "execution_count": null,
   "metadata": {},
   "outputs": [
    {
     "name": "stdout",
     "output_type": "stream",
     "text": [
      "<class 'pandas.core.frame.DataFrame'>\n",
      "RangeIndex: 337 entries, 0 to 336\n",
      "Data columns (total 19 columns):\n",
      " #   Column                    Non-Null Count  Dtype  \n",
      "---  ------                    --------------  -----  \n",
      " 0   index                     337 non-null    int64  \n",
      " 1   Qiymət                    337 non-null    object \n",
      " 2   Valyuta                   337 non-null    object \n",
      " 3   Şəhər                     337 non-null    object \n",
      " 4   Marka                     337 non-null    object \n",
      " 5   Model                     337 non-null    object \n",
      " 6   Buraxılış ili             337 non-null    int64  \n",
      " 7   Ban növü                  337 non-null    object \n",
      " 8   Rəng                      337 non-null    object \n",
      " 9   Mühərrik                  337 non-null    object \n",
      " 10  Yürüş                     337 non-null    object \n",
      " 11  Sürətlər qutusu           337 non-null    object \n",
      " 12  Ötürücü                   337 non-null    object \n",
      " 13  Yeni                      337 non-null    object \n",
      " 14  Yerlərin sayı             262 non-null    float64\n",
      " 15  Vəziyyəti                 337 non-null    object \n",
      " 16  Hansı bazar üçün yığılıb  252 non-null    object \n",
      " 17  Sahiblər                  220 non-null    object \n",
      " 18  Qəzalı                    1 non-null      object \n",
      "dtypes: float64(1), int64(2), object(16)\n",
      "memory usage: 50.2+ KB\n"
     ]
    },
    {
     "data": {
      "text/html": [
       "<div>\n",
       "<style scoped>\n",
       "    .dataframe tbody tr th:only-of-type {\n",
       "        vertical-align: middle;\n",
       "    }\n",
       "\n",
       "    .dataframe tbody tr th {\n",
       "        vertical-align: top;\n",
       "    }\n",
       "\n",
       "    .dataframe thead th {\n",
       "        text-align: right;\n",
       "    }\n",
       "</style>\n",
       "<table border=\"1\" class=\"dataframe\">\n",
       "  <thead>\n",
       "    <tr style=\"text-align: right;\">\n",
       "      <th></th>\n",
       "      <th>index</th>\n",
       "      <th>Qiymət</th>\n",
       "      <th>Valyuta</th>\n",
       "      <th>Şəhər</th>\n",
       "      <th>Marka</th>\n",
       "      <th>Model</th>\n",
       "      <th>Buraxılış ili</th>\n",
       "      <th>Ban növü</th>\n",
       "      <th>Rəng</th>\n",
       "      <th>Mühərrik</th>\n",
       "      <th>Yürüş</th>\n",
       "      <th>Sürətlər qutusu</th>\n",
       "      <th>Ötürücü</th>\n",
       "      <th>Yeni</th>\n",
       "      <th>Yerlərin sayı</th>\n",
       "      <th>Vəziyyəti</th>\n",
       "      <th>Hansı bazar üçün yığılıb</th>\n",
       "      <th>Sahiblər</th>\n",
       "      <th>Qəzalı</th>\n",
       "    </tr>\n",
       "  </thead>\n",
       "  <tbody>\n",
       "    <tr>\n",
       "      <th>0</th>\n",
       "      <td>8827958</td>\n",
       "      <td>59 000</td>\n",
       "      <td>AZN</td>\n",
       "      <td>Bakı</td>\n",
       "      <td>Hyundai</td>\n",
       "      <td>Mighty EX5</td>\n",
       "      <td>2024</td>\n",
       "      <td>Yük maşını</td>\n",
       "      <td>Ağ</td>\n",
       "      <td>2.8 L / 150 a.g. / Dizel</td>\n",
       "      <td>0 km</td>\n",
       "      <td>Mexaniki</td>\n",
       "      <td>Arxa</td>\n",
       "      <td>Bəli</td>\n",
       "      <td>3.0</td>\n",
       "      <td>Vuruğu yoxdur, rənglənməyib</td>\n",
       "      <td>Avropa</td>\n",
       "      <td>NaN</td>\n",
       "      <td>NaN</td>\n",
       "    </tr>\n",
       "    <tr>\n",
       "      <th>1</th>\n",
       "      <td>9465552</td>\n",
       "      <td>40 700</td>\n",
       "      <td>USD</td>\n",
       "      <td>Bakı</td>\n",
       "      <td>Lexus</td>\n",
       "      <td>ES 200</td>\n",
       "      <td>2022</td>\n",
       "      <td>Sedan</td>\n",
       "      <td>Qara</td>\n",
       "      <td>2.0 L / 150 a.g. / Benzin</td>\n",
       "      <td>38 000 km</td>\n",
       "      <td>Avtomat</td>\n",
       "      <td>Ön</td>\n",
       "      <td>Xeyr</td>\n",
       "      <td>5.0</td>\n",
       "      <td>Vuruğu yoxdur, rənglənməyib</td>\n",
       "      <td>Rəsmi diler</td>\n",
       "      <td>1</td>\n",
       "      <td>NaN</td>\n",
       "    </tr>\n",
       "    <tr>\n",
       "      <th>2</th>\n",
       "      <td>9406987</td>\n",
       "      <td>8 000</td>\n",
       "      <td>AZN</td>\n",
       "      <td>Xırdalan</td>\n",
       "      <td>Kia</td>\n",
       "      <td>Rio</td>\n",
       "      <td>2005</td>\n",
       "      <td>Universal, 5 qapı</td>\n",
       "      <td>Gümüşü</td>\n",
       "      <td>1.5 L / 97 a.g. / Benzin</td>\n",
       "      <td>320 000 km</td>\n",
       "      <td>Avtomat</td>\n",
       "      <td>Ön</td>\n",
       "      <td>Xeyr</td>\n",
       "      <td>5.0</td>\n",
       "      <td>Vuruğu yoxdur, rənglənməyib</td>\n",
       "      <td>Digər</td>\n",
       "      <td>2</td>\n",
       "      <td>NaN</td>\n",
       "    </tr>\n",
       "    <tr>\n",
       "      <th>3</th>\n",
       "      <td>8246407</td>\n",
       "      <td>37 900</td>\n",
       "      <td>USD</td>\n",
       "      <td>Bakı</td>\n",
       "      <td>Mitsubishi</td>\n",
       "      <td>L200</td>\n",
       "      <td>2024</td>\n",
       "      <td>Pikap, ikiqat kabin</td>\n",
       "      <td>Qara</td>\n",
       "      <td>2.4 L / 147 a.g. / Dizel</td>\n",
       "      <td>0 km</td>\n",
       "      <td>Mexaniki</td>\n",
       "      <td>Tam</td>\n",
       "      <td>Bəli</td>\n",
       "      <td>5.0</td>\n",
       "      <td>Vuruğu yoxdur, rənglənməyib</td>\n",
       "      <td>Rəsmi diler</td>\n",
       "      <td>NaN</td>\n",
       "      <td>NaN</td>\n",
       "    </tr>\n",
       "    <tr>\n",
       "      <th>4</th>\n",
       "      <td>9171648</td>\n",
       "      <td>40 000</td>\n",
       "      <td>AZN</td>\n",
       "      <td>Bakı</td>\n",
       "      <td>Toyota</td>\n",
       "      <td>Corolla</td>\n",
       "      <td>2024</td>\n",
       "      <td>Sedan</td>\n",
       "      <td>Ağ</td>\n",
       "      <td>1.8 L / 136 a.g. / Hibrid</td>\n",
       "      <td>6 000 km</td>\n",
       "      <td>Variator</td>\n",
       "      <td>Ön</td>\n",
       "      <td>Xeyr</td>\n",
       "      <td>5.0</td>\n",
       "      <td>Vuruğu yoxdur, rənglənməyib</td>\n",
       "      <td>Rəsmi diler</td>\n",
       "      <td>1</td>\n",
       "      <td>NaN</td>\n",
       "    </tr>\n",
       "  </tbody>\n",
       "</table>\n",
       "</div>"
      ],
      "text/plain": [
       "     index  Qiymət Valyuta     Şəhər       Marka       Model  Buraxılış ili  \\\n",
       "0  8827958  59 000     AZN      Bakı     Hyundai  Mighty EX5           2024   \n",
       "1  9465552  40 700     USD      Bakı       Lexus      ES 200           2022   \n",
       "2  9406987   8 000     AZN  Xırdalan         Kia         Rio           2005   \n",
       "3  8246407  37 900     USD      Bakı  Mitsubishi        L200           2024   \n",
       "4  9171648  40 000     AZN      Bakı      Toyota     Corolla           2024   \n",
       "\n",
       "              Ban növü    Rəng                   Mühərrik       Yürüş  \\\n",
       "0           Yük maşını      Ağ   2.8 L / 150 a.g. / Dizel        0 km   \n",
       "1                Sedan    Qara  2.0 L / 150 a.g. / Benzin   38 000 km   \n",
       "2    Universal, 5 qapı  Gümüşü   1.5 L / 97 a.g. / Benzin  320 000 km   \n",
       "3  Pikap, ikiqat kabin    Qara   2.4 L / 147 a.g. / Dizel        0 km   \n",
       "4                Sedan      Ağ  1.8 L / 136 a.g. / Hibrid    6 000 km   \n",
       "\n",
       "  Sürətlər qutusu Ötürücü  Yeni  Yerlərin sayı                    Vəziyyəti  \\\n",
       "0        Mexaniki    Arxa  Bəli            3.0  Vuruğu yoxdur, rənglənməyib   \n",
       "1         Avtomat      Ön  Xeyr            5.0  Vuruğu yoxdur, rənglənməyib   \n",
       "2         Avtomat      Ön  Xeyr            5.0  Vuruğu yoxdur, rənglənməyib   \n",
       "3        Mexaniki     Tam  Bəli            5.0  Vuruğu yoxdur, rənglənməyib   \n",
       "4        Variator      Ön  Xeyr            5.0  Vuruğu yoxdur, rənglənməyib   \n",
       "\n",
       "  Hansı bazar üçün yığılıb Sahiblər Qəzalı  \n",
       "0                   Avropa      NaN    NaN  \n",
       "1              Rəsmi diler        1    NaN  \n",
       "2                    Digər        2    NaN  \n",
       "3              Rəsmi diler      NaN    NaN  \n",
       "4              Rəsmi diler        1    NaN  "
      ]
     },
     "execution_count": 80,
     "metadata": {},
     "output_type": "execute_result"
    }
   ],
   "source": [
    "df = pd.read_csv(CAR_CSV_FILE, encoding=\"utf-8\")\n",
    "df.info()\n",
    "df.head()"
   ]
  },
  {
   "cell_type": "code",
   "execution_count": 81,
   "metadata": {},
   "outputs": [
    {
     "data": {
      "text/plain": [
       "<seaborn.axisgrid.FacetGrid at 0x7505f4657740>"
      ]
     },
     "execution_count": 81,
     "metadata": {},
     "output_type": "execute_result"
    },
    {
     "data": {
      "image/png": "[encoded data removed]",
      "text/plain": [
       "<Figure size 500x500 with 1 Axes>"
      ]
     },
     "metadata": {},
     "output_type": "display_data"
    }
   ],
   "source": [
    "# Step 1: Remove spaces and any non-numeric character except digits\n",
    "df['Qiymət'] = df['Qiymət'].str.replace(r'\\s+', '', regex=True).astype(int)\n",
    "\n",
    "# Optional: Convert to float if needed\n",
    "df['Qiymət'] = df['Qiymət'].astype(float)\n",
    "sns.displot(df[\"Qiymət\"])"
   ]
  },
  {
   "cell_type": "code",
   "execution_count": null,
   "metadata": {},
   "outputs": [
    {
     "data": {
      "text/plain": [
       "<Axes: xlabel='count', ylabel='Count'>"
      ]
     },
     "execution_count": 96,
     "metadata": {},
     "output_type": "execute_result"
    },
    {
     "data": {
      "image/png": "[encoded data removed]",
      "text/plain": [
       "<Figure size 640x480 with 1 Axes>"
      ]
     },
     "metadata": {},
     "output_type": "display_data"
    }
   ],
   "source": [
    "top_brands = df[\"Marka\"].value_counts().head(10)\n",
    "sns.histplot(top_brands)"
   ]
  }
 ],
 "metadata": {
  "kernelspec": {
   "display_name": ".venv",
   "language": "python",
   "name": "python3"
  },
  "language_info": {
   "codemirror_mode": {
    "name": "ipython",
    "version": 3
   },
   "file_extension": ".py",
   "mimetype": "text/x-python",
   "name": "python",
   "nbconvert_exporter": "python",
   "pygments_lexer": "ipython3",
   "version": "3.12.10"
  }
 },
 "nbformat": 4,
 "nbformat_minor": 2
}
